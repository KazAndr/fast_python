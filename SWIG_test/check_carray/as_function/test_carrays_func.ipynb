{
 "cells": [
  {
   "cell_type": "code",
   "execution_count": 1,
   "metadata": {},
   "outputs": [],
   "source": [
    "import example"
   ]
  },
  {
   "cell_type": "code",
   "execution_count": 2,
   "metadata": {},
   "outputs": [],
   "source": [
    "a  = example.new_doubleArray(10)"
   ]
  },
  {
   "cell_type": "code",
   "execution_count": 3,
   "metadata": {},
   "outputs": [],
   "source": [
    "for i in range(10):\n",
    "    example.doubleArray_setitem(a, i, 2*i)"
   ]
  },
  {
   "cell_type": "code",
   "execution_count": 4,
   "metadata": {},
   "outputs": [],
   "source": [
    "example.print_array(a)"
   ]
  },
  {
   "cell_type": "code",
   "execution_count": 5,
   "metadata": {},
   "outputs": [
    {
     "name": "stdout",
     "output_type": "stream",
     "text": [
      "0.0\n",
      "2.0\n",
      "4.0\n",
      "6.0\n",
      "8.0\n",
      "10.0\n",
      "12.0\n",
      "14.0\n",
      "16.0\n",
      "18.0\n",
      "4.74e-322\n",
      "1.19e-321\n",
      "5e-324\n",
      "4e-323\n",
      "4.6454659105768e-310\n",
      "0.0\n",
      "0.0\n",
      "0.0\n",
      "0.0\n",
      "0.0\n",
      "0.0\n",
      "0.0\n",
      "-1.2108343900012433e+269\n",
      "6.93937459117007e-310\n",
      "4.64546611451997e-310\n",
      "-3.7138718954549455e-116\n",
      "6.93937459115426e-310\n",
      "4.64546777872477e-310\n",
      "0.0\n",
      "0.0\n",
      "0.0\n",
      "-77739396.54497257\n",
      "6.9393745911764e-310\n",
      "6.9393684334343e-310\n",
      "1.2700333948584857e+178\n",
      "6.93937696238636e-310\n",
      "6.93936845699647e-310\n",
      "7.989413807443464e-141\n",
      "6.93937692093663e-310\n",
      "6.9393769591374e-310\n",
      "6.93937695143075e-310\n",
      "1.19e-321\n",
      "5e-324\n",
      "4e-323\n",
      "4.6454659105768e-310\n",
      "2.5e-323\n",
      "0.0\n",
      "0.0\n",
      "0.0\n",
      "0.0\n"
     ]
    }
   ],
   "source": [
    "for i in range(50): print(example.doubleArray_getitem(a,i))"
   ]
  },
  {
   "cell_type": "code",
   "execution_count": 18,
   "metadata": {
    "collapsed": true
   },
   "outputs": [],
   "source": [
    "example.delete_doubleArray(a)"
   ]
  },
  {
   "cell_type": "code",
   "execution_count": null,
   "metadata": {
    "collapsed": true
   },
   "outputs": [],
   "source": [
    "for i in range(10): print(example.doubleArray_getitem(a,i)) # лучше не вызывать, если массив удален(а он удален)"
   ]
  },
  {
   "cell_type": "code",
   "execution_count": 8,
   "metadata": {},
   "outputs": [
    {
     "data": {
      "text/plain": [
       "SwigPyObject"
      ]
     },
     "execution_count": 8,
     "metadata": {},
     "output_type": "execute_result"
    }
   ],
   "source": [
    "type(a)"
   ]
  },
  {
   "cell_type": "code",
   "execution_count": 11,
   "metadata": {},
   "outputs": [],
   "source": [
    "example.doubleArray_setitem(a, 20, 100)"
   ]
  },
  {
   "cell_type": "code",
   "execution_count": null,
   "metadata": {},
   "outputs": [],
   "source": []
  }
 ],
 "metadata": {
  "kernelspec": {
   "display_name": "Python 3",
   "language": "python",
   "name": "python3"
  },
  "language_info": {
   "codemirror_mode": {
    "name": "ipython",
    "version": 3
   },
   "file_extension": ".py",
   "mimetype": "text/x-python",
   "name": "python",
   "nbconvert_exporter": "python",
   "pygments_lexer": "ipython3",
   "version": "3.5.5"
  }
 },
 "nbformat": 4,
 "nbformat_minor": 1
}
