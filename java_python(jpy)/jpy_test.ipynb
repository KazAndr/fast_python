{
 "cells": [
  {
   "cell_type": "code",
   "execution_count": 83,
   "metadata": {},
   "outputs": [
    {
     "name": "stdout",
     "output_type": "stream",
     "text": [
      "Once deleted, variables cannot be recovered. Proceed (y/[n])? y\n"
     ]
    }
   ],
   "source": [
    "reset"
   ]
  },
  {
   "cell_type": "code",
   "execution_count": 1,
   "metadata": {},
   "outputs": [],
   "source": [
    "import sys"
   ]
  },
  {
   "cell_type": "code",
   "execution_count": 2,
   "metadata": {},
   "outputs": [],
   "source": [
    "sys.path.append('/home/andr/work/jpy/build/lib.linux-x86_64-3.5')"
   ]
  },
  {
   "cell_type": "code",
   "execution_count": 3,
   "metadata": {},
   "outputs": [],
   "source": [
    "import jpy"
   ]
  },
  {
   "cell_type": "code",
   "execution_count": 4,
   "metadata": {},
   "outputs": [
    {
     "data": {
      "text/plain": [
       "['JException',\n",
       " 'JField',\n",
       " 'JMethod',\n",
       " 'JOverloadedMethod',\n",
       " 'JType',\n",
       " '__doc__',\n",
       " '__file__',\n",
       " '__loader__',\n",
       " '__name__',\n",
       " '__package__',\n",
       " '__spec__',\n",
       " 'array',\n",
       " 'cast',\n",
       " 'create_jvm',\n",
       " 'destroy_jvm',\n",
       " 'diag',\n",
       " 'get_type',\n",
       " 'has_jvm',\n",
       " 'type_callbacks',\n",
       " 'types']"
      ]
     },
     "execution_count": 4,
     "metadata": {},
     "output_type": "execute_result"
    }
   ],
   "source": [
    "dir(jpy)"
   ]
  },
  {
   "cell_type": "code",
   "execution_count": 5,
   "metadata": {},
   "outputs": [],
   "source": [
    "import jpyutil"
   ]
  },
  {
   "cell_type": "code",
   "execution_count": 6,
   "metadata": {},
   "outputs": [
    {
     "data": {
      "text/plain": [
       "(<CDLL '/usr/lib/jvm/java-8-openjdk-amd64/jre/lib/amd64/server/libjvm.so', handle 557d75a31dd0 at 0x7fa8940e3080>,\n",
       " ['-Xmx512M',\n",
       "  '-Djpy.jdlLib=/home/andr/work/jpy/build/lib.linux-x86_64-3.5/jdl.cpython-35m-x86_64-linux-gnu.so',\n",
       "  '-Djpy.pythonExecutable=/home/andr/work/miniconda3/bin/python',\n",
       "  '-Djpy.pythonPrefix=/home/andr/work/miniconda3',\n",
       "  '-Djpy.pythonLib=/home/andr/work/miniconda3/lib/libpython3.5m.so.1.0',\n",
       "  '-Djpy.jpyLib=/home/andr/work/jpy/build/lib.linux-x86_64-3.5/jpy.cpython-35m-x86_64-linux-gnu.so'])"
      ]
     },
     "execution_count": 6,
     "metadata": {},
     "output_type": "execute_result"
    }
   ],
   "source": [
    "jpyutil.init_jvm(jvm_maxmem='512M')"
   ]
  },
  {
   "cell_type": "code",
   "execution_count": 8,
   "metadata": {},
   "outputs": [],
   "source": [
    "test_hello = jpy.get_type('HelloWorld')"
   ]
  },
  {
   "cell_type": "code",
   "execution_count": 9,
   "metadata": {},
   "outputs": [
    {
     "data": {
      "text/plain": [
       "HelloWorld"
      ]
     },
     "execution_count": 9,
     "metadata": {},
     "output_type": "execute_result"
    }
   ],
   "source": [
    "test_hello"
   ]
  },
  {
   "cell_type": "code",
   "execution_count": 10,
   "metadata": {},
   "outputs": [
    {
     "ename": "ValueError",
     "evalue": "Java class 'org.jpy.fixtures.ExceptionTestFixture' not found",
     "output_type": "error",
     "traceback": [
      "\u001b[0;31m---------------------------------------------------------------------------\u001b[0m",
      "\u001b[0;31mValueError\u001b[0m                                Traceback (most recent call last)",
      "\u001b[0;32m<ipython-input-10-c4393f55dd97>\u001b[0m in \u001b[0;36m<module>\u001b[0;34m()\u001b[0m\n\u001b[0;32m----> 1\u001b[0;31m \u001b[0mFixture\u001b[0m \u001b[0;34m=\u001b[0m \u001b[0mjpy\u001b[0m\u001b[0;34m.\u001b[0m\u001b[0mget_type\u001b[0m\u001b[0;34m(\u001b[0m\u001b[0;34m'org.jpy.fixtures.ExceptionTestFixture'\u001b[0m\u001b[0;34m)\u001b[0m\u001b[0;34m\u001b[0m\u001b[0m\n\u001b[0m",
      "\u001b[0;31mValueError\u001b[0m: Java class 'org.jpy.fixtures.ExceptionTestFixture' not found"
     ]
    }
   ],
   "source": [
    "Fixture = jpy.get_type('org.jpy.fixtures.ExceptionTestFixture')"
   ]
  },
  {
   "cell_type": "code",
   "execution_count": 11,
   "metadata": {},
   "outputs": [],
   "source": [
    "File = jpy.get_type('java.io.File')"
   ]
  },
  {
   "cell_type": "code",
   "execution_count": 12,
   "metadata": {},
   "outputs": [],
   "source": [
    "file = File('test_java.txt')"
   ]
  },
  {
   "cell_type": "code",
   "execution_count": 13,
   "metadata": {},
   "outputs": [
    {
     "data": {
      "text/plain": [
       "['__class__',\n",
       " '__delattr__',\n",
       " '__dir__',\n",
       " '__doc__',\n",
       " '__eq__',\n",
       " '__format__',\n",
       " '__ge__',\n",
       " '__getattribute__',\n",
       " '__gt__',\n",
       " '__hash__',\n",
       " '__init__',\n",
       " '__jinit__',\n",
       " '__le__',\n",
       " '__lt__',\n",
       " '__ne__',\n",
       " '__new__',\n",
       " '__reduce__',\n",
       " '__reduce_ex__',\n",
       " '__repr__',\n",
       " '__setattr__',\n",
       " '__sizeof__',\n",
       " '__str__',\n",
       " '__subclasshook__',\n",
       " 'canExecute',\n",
       " 'canRead',\n",
       " 'canWrite',\n",
       " 'compareTo',\n",
       " 'createNewFile',\n",
       " 'createTempFile',\n",
       " 'delete',\n",
       " 'deleteOnExit',\n",
       " 'equals',\n",
       " 'exists',\n",
       " 'getAbsoluteFile',\n",
       " 'getAbsolutePath',\n",
       " 'getCanonicalFile',\n",
       " 'getCanonicalPath',\n",
       " 'getClass',\n",
       " 'getFreeSpace',\n",
       " 'getName',\n",
       " 'getParent',\n",
       " 'getParentFile',\n",
       " 'getPath',\n",
       " 'getTotalSpace',\n",
       " 'getUsableSpace',\n",
       " 'hashCode',\n",
       " 'isAbsolute',\n",
       " 'isDirectory',\n",
       " 'isFile',\n",
       " 'isHidden',\n",
       " 'jclass',\n",
       " 'lastModified',\n",
       " 'length',\n",
       " 'list',\n",
       " 'listFiles',\n",
       " 'listRoots',\n",
       " 'mkdir',\n",
       " 'mkdirs',\n",
       " 'notify',\n",
       " 'notifyAll',\n",
       " 'pathSeparator',\n",
       " 'pathSeparatorChar',\n",
       " 'renameTo',\n",
       " 'separator',\n",
       " 'separatorChar',\n",
       " 'setExecutable',\n",
       " 'setLastModified',\n",
       " 'setReadOnly',\n",
       " 'setReadable',\n",
       " 'setWritable',\n",
       " 'toPath',\n",
       " 'toString',\n",
       " 'toURI',\n",
       " 'toURL',\n",
       " 'wait']"
      ]
     },
     "execution_count": 13,
     "metadata": {},
     "output_type": "execute_result"
    }
   ],
   "source": [
    "dir(file)"
   ]
  },
  {
   "cell_type": "code",
   "execution_count": 16,
   "metadata": {},
   "outputs": [
    {
     "data": {
      "text/plain": [
       "True"
      ]
     },
     "execution_count": 16,
     "metadata": {},
     "output_type": "execute_result"
    }
   ],
   "source": [
    "file.canRead()"
   ]
  },
  {
   "cell_type": "code",
   "execution_count": 14,
   "metadata": {},
   "outputs": [],
   "source": [
    "FileInputStream = jpy.get_type('java.io.FileInputStream')\n",
    "InputStreamReader = jpy.get_type('java.io.InputStreamReader')\n",
    "BufferedReader = jpy.get_type('java.io.BufferedReader')\n",
    "File = jpy.get_type('java.io.File')\n",
    "FileReader = jpy.get_type('java.io.FileReader')\n",
    "String = jpy.get_type('java.lang.String')\n",
    "System = jpy.get_type('java.lang.System')"
   ]
  },
  {
   "cell_type": "code",
   "execution_count": 20,
   "metadata": {},
   "outputs": [],
   "source": [
    "f = File(\n",
    "    '/home/andr/Yandex.Disk/3.Programing/' + \\\n",
    "    'balovstvo&checking/fast_python/java_python(jpy)/test_java.txt'\n",
    ")"
   ]
  },
  {
   "cell_type": "code",
   "execution_count": 21,
   "metadata": {},
   "outputs": [],
   "source": [
    "fin = BufferedReader(FileReader(f))"
   ]
  },
  {
   "cell_type": "code",
   "execution_count": 22,
   "metadata": {},
   "outputs": [],
   "source": [
    "stringLine = String()"
   ]
  },
  {
   "cell_type": "code",
   "execution_count": 23,
   "metadata": {},
   "outputs": [],
   "source": [
    "for i in range(4):\n",
    "    stringLine = String(fin.readLine())\n",
    "    System.out.println(stringLine)"
   ]
  },
  {
   "cell_type": "code",
   "execution_count": 24,
   "metadata": {},
   "outputs": [
    {
     "name": "stdout",
     "output_type": "stream",
     "text": [
      "4\n"
     ]
    }
   ],
   "source": [
    "print(stringLine)"
   ]
  },
  {
   "cell_type": "code",
   "execution_count": 20,
   "metadata": {
    "collapsed": true
   },
   "outputs": [],
   "source": [
    "System.out.println(\"test\")"
   ]
  },
  {
   "cell_type": "code",
   "execution_count": 4,
   "metadata": {},
   "outputs": [],
   "source": [
    "jpy.create_jvm(['-Xmx512M', '-Djava.class.path=/home/andrey/Yandex.Disk/3.Программирование/balovstvo&checking/fast_python/java_python(jpy)/test1'])"
   ]
  },
  {
   "cell_type": "code",
   "execution_count": 22,
   "metadata": {},
   "outputs": [],
   "source": [
    "test_hello = jpy.destroy_jvm()"
   ]
  },
  {
   "cell_type": "code",
   "execution_count": null,
   "metadata": {
    "collapsed": true
   },
   "outputs": [],
   "source": []
  }
 ],
 "metadata": {
  "kernelspec": {
   "display_name": "Python 3",
   "language": "python",
   "name": "python3"
  },
  "language_info": {
   "codemirror_mode": {
    "name": "ipython",
    "version": 3
   },
   "file_extension": ".py",
   "mimetype": "text/x-python",
   "name": "python",
   "nbconvert_exporter": "python",
   "pygments_lexer": "ipython3",
   "version": "3.5.5"
  }
 },
 "nbformat": 4,
 "nbformat_minor": 1
}
