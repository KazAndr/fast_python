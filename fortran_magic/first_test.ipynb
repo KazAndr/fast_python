{
 "cells": [
  {
   "cell_type": "code",
   "execution_count": 1,
   "metadata": {},
   "outputs": [
    {
     "name": "stderr",
     "output_type": "stream",
     "text": [
      "/home/andr/work/miniconda3/lib/python3.5/site-packages/fortranmagic.py:147: UserWarning: get_ipython_cache_dir has moved to the IPython.paths module since IPython 4.0.\n",
      "  self._lib_dir = os.path.join(get_ipython_cache_dir(), 'fortran')\n"
     ]
    },
    {
     "data": {
      "application/javascript": [
       "$.getScript(\"https://raw.github.com/marijnh/CodeMirror/master/mode/fortran/fortran.js\", function () {\n",
       "IPython.config.cell_magic_highlight['magic_fortran'] = {'reg':[/^%%fortran/]};});\n"
      ]
     },
     "metadata": {},
     "output_type": "display_data"
    }
   ],
   "source": [
    "#Запуск в Windows не корректен\n",
    "%load_ext fortranmagic "
   ]
  },
  {
   "cell_type": "code",
   "execution_count": 2,
   "metadata": {},
   "outputs": [
    {
     "ename": "RuntimeError",
     "evalue": "f2py failed, see output",
     "output_type": "error",
     "traceback": [
      "\u001b[0;31m---------------------------------------------------------------------------\u001b[0m",
      "\u001b[0;31mRuntimeError\u001b[0m                              Traceback (most recent call last)",
      "\u001b[0;32m<ipython-input-2-ca015fd5308d>\u001b[0m in \u001b[0;36m<module>\u001b[0;34m()\u001b[0m\n\u001b[0;32m----> 1\u001b[0;31m \u001b[0mget_ipython\u001b[0m\u001b[0;34m(\u001b[0m\u001b[0;34m)\u001b[0m\u001b[0;34m.\u001b[0m\u001b[0mrun_cell_magic\u001b[0m\u001b[0;34m(\u001b[0m\u001b[0;34m'fortran'\u001b[0m\u001b[0;34m,\u001b[0m \u001b[0;34m''\u001b[0m\u001b[0;34m,\u001b[0m \u001b[0;34m'subroutine my_function(x, y, z)\\n    real, intent(in) :: x(:), y(:)\\n    real, intent(out) :: z(size(x))\\n    ! using vector operations\\n    z(:) = sin(x(:) + y(:))\\nend subroutine'\u001b[0m\u001b[0;34m)\u001b[0m\u001b[0;34m\u001b[0m\u001b[0m\n\u001b[0m",
      "\u001b[0;32m~/work/miniconda3/lib/python3.5/site-packages/IPython/core/interactiveshell.py\u001b[0m in \u001b[0;36mrun_cell_magic\u001b[0;34m(self, magic_name, line, cell)\u001b[0m\n\u001b[1;32m   2165\u001b[0m             \u001b[0mmagic_arg_s\u001b[0m \u001b[0;34m=\u001b[0m \u001b[0mself\u001b[0m\u001b[0;34m.\u001b[0m\u001b[0mvar_expand\u001b[0m\u001b[0;34m(\u001b[0m\u001b[0mline\u001b[0m\u001b[0;34m,\u001b[0m \u001b[0mstack_depth\u001b[0m\u001b[0;34m)\u001b[0m\u001b[0;34m\u001b[0m\u001b[0m\n\u001b[1;32m   2166\u001b[0m             \u001b[0;32mwith\u001b[0m \u001b[0mself\u001b[0m\u001b[0;34m.\u001b[0m\u001b[0mbuiltin_trap\u001b[0m\u001b[0;34m:\u001b[0m\u001b[0;34m\u001b[0m\u001b[0m\n\u001b[0;32m-> 2167\u001b[0;31m                 \u001b[0mresult\u001b[0m \u001b[0;34m=\u001b[0m \u001b[0mfn\u001b[0m\u001b[0;34m(\u001b[0m\u001b[0mmagic_arg_s\u001b[0m\u001b[0;34m,\u001b[0m \u001b[0mcell\u001b[0m\u001b[0;34m)\u001b[0m\u001b[0;34m\u001b[0m\u001b[0m\n\u001b[0m\u001b[1;32m   2168\u001b[0m             \u001b[0;32mreturn\u001b[0m \u001b[0mresult\u001b[0m\u001b[0;34m\u001b[0m\u001b[0m\n\u001b[1;32m   2169\u001b[0m \u001b[0;34m\u001b[0m\u001b[0m\n",
      "\u001b[0;32m<decorator-gen-127>\u001b[0m in \u001b[0;36mfortran\u001b[0;34m(self, line, cell)\u001b[0m\n",
      "\u001b[0;32m~/work/miniconda3/lib/python3.5/site-packages/IPython/core/magic.py\u001b[0m in \u001b[0;36m<lambda>\u001b[0;34m(f, *a, **k)\u001b[0m\n\u001b[1;32m    185\u001b[0m     \u001b[0;31m# but it's overkill for just that one bit of state.\u001b[0m\u001b[0;34m\u001b[0m\u001b[0;34m\u001b[0m\u001b[0m\n\u001b[1;32m    186\u001b[0m     \u001b[0;32mdef\u001b[0m \u001b[0mmagic_deco\u001b[0m\u001b[0;34m(\u001b[0m\u001b[0marg\u001b[0m\u001b[0;34m)\u001b[0m\u001b[0;34m:\u001b[0m\u001b[0;34m\u001b[0m\u001b[0m\n\u001b[0;32m--> 187\u001b[0;31m         \u001b[0mcall\u001b[0m \u001b[0;34m=\u001b[0m \u001b[0;32mlambda\u001b[0m \u001b[0mf\u001b[0m\u001b[0;34m,\u001b[0m \u001b[0;34m*\u001b[0m\u001b[0ma\u001b[0m\u001b[0;34m,\u001b[0m \u001b[0;34m**\u001b[0m\u001b[0mk\u001b[0m\u001b[0;34m:\u001b[0m \u001b[0mf\u001b[0m\u001b[0;34m(\u001b[0m\u001b[0;34m*\u001b[0m\u001b[0ma\u001b[0m\u001b[0;34m,\u001b[0m \u001b[0;34m**\u001b[0m\u001b[0mk\u001b[0m\u001b[0;34m)\u001b[0m\u001b[0;34m\u001b[0m\u001b[0m\n\u001b[0m\u001b[1;32m    188\u001b[0m \u001b[0;34m\u001b[0m\u001b[0m\n\u001b[1;32m    189\u001b[0m         \u001b[0;32mif\u001b[0m \u001b[0mcallable\u001b[0m\u001b[0;34m(\u001b[0m\u001b[0marg\u001b[0m\u001b[0;34m)\u001b[0m\u001b[0;34m:\u001b[0m\u001b[0;34m\u001b[0m\u001b[0m\n",
      "\u001b[0;32m~/work/miniconda3/lib/python3.5/site-packages/fortranmagic.py\u001b[0m in \u001b[0;36mfortran\u001b[0;34m(self, line, cell)\u001b[0m\n\u001b[1;32m    377\u001b[0m                              verbosity=args.verbosity)\n\u001b[1;32m    378\u001b[0m         \u001b[0;32mif\u001b[0m \u001b[0mres\u001b[0m \u001b[0;34m!=\u001b[0m \u001b[0;36m0\u001b[0m\u001b[0;34m:\u001b[0m\u001b[0;34m\u001b[0m\u001b[0m\n\u001b[0;32m--> 379\u001b[0;31m            \u001b[0;32mraise\u001b[0m \u001b[0mRuntimeError\u001b[0m\u001b[0;34m(\u001b[0m\u001b[0;34m\"f2py failed, see output\"\u001b[0m\u001b[0;34m)\u001b[0m\u001b[0;34m\u001b[0m\u001b[0m\n\u001b[0m\u001b[1;32m    380\u001b[0m \u001b[0;34m\u001b[0m\u001b[0m\n\u001b[1;32m    381\u001b[0m         \u001b[0mself\u001b[0m\u001b[0;34m.\u001b[0m\u001b[0m_code_cache\u001b[0m\u001b[0;34m[\u001b[0m\u001b[0mkey\u001b[0m\u001b[0;34m]\u001b[0m \u001b[0;34m=\u001b[0m \u001b[0mmodule_name\u001b[0m\u001b[0;34m\u001b[0m\u001b[0m\n",
      "\u001b[0;31mRuntimeError\u001b[0m: f2py failed, see output"
     ]
    }
   ],
   "source": [
    "%%fortran\n",
    "subroutine my_function(x, y, z)\n",
    "    real, intent(in) :: x(:), y(:)\n",
    "    real, intent(out) :: z(size(x))\n",
    "    ! using vector operations\n",
    "    z(:) = sin(x(:) + y(:))\n",
    "end subroutine"
   ]
  },
  {
   "cell_type": "code",
   "execution_count": 22,
   "metadata": {
    "collapsed": true
   },
   "outputs": [],
   "source": [
    "# Now we can use this function\n",
    "import numpy\n",
    "x = numpy.random.normal(size=10000000)\n",
    "y = numpy.random.normal(size=10000000)\n",
    "z = my_function(x, y)"
   ]
  },
  {
   "cell_type": "code",
   "execution_count": 21,
   "metadata": {},
   "outputs": [
    {
     "data": {
      "text/plain": [
       "array([ 1.8071128 ,  0.32872384,  0.06258307, ..., -0.87000421,\n",
       "        1.29645412, -1.02693244])"
      ]
     },
     "execution_count": 21,
     "metadata": {},
     "output_type": "execute_result"
    }
   ],
   "source": [
    "x"
   ]
  },
  {
   "cell_type": "code",
   "execution_count": 19,
   "metadata": {},
   "outputs": [
    {
     "data": {
      "text/plain": [
       "10000000"
      ]
     },
     "execution_count": 19,
     "metadata": {},
     "output_type": "execute_result"
    }
   ],
   "source": [
    "len(z)"
   ]
  },
  {
   "cell_type": "markdown",
   "metadata": {},
   "source": [
    "#To debug compilation, use **-vvv** options, this will print all compiler warnings and output:"
   ]
  },
  {
   "cell_type": "code",
   "execution_count": 6,
   "metadata": {},
   "outputs": [
    {
     "name": "stdout",
     "output_type": "stream",
     "text": [
      "Running...\n",
      "   /home/andrey/programming/miniconda3/bin/python3 -m numpy.f2py -m _fortran_magic_d4ec9f96eccc695e8920d2c084bcab3c -c /home/andrey/.cache/ipython/fortran/_fortran_magic_d4ec9f96eccc695e8920d2c084bcab3c.f90\n",
      "running build\n",
      "running config_cc\n",
      "unifing config_cc, config, build_clib, build_ext, build commands --compiler options\n",
      "running config_fc\n",
      "unifing config_fc, config, build_clib, build_ext, build commands --fcompiler options\n",
      "running build_src\n",
      "build_src\n",
      "building extension \"_fortran_magic_d4ec9f96eccc695e8920d2c084bcab3c\" sources\n",
      "f2py options: []\n",
      "f2py:> /tmp/tmp5pnfy4et/src.linux-x86_64-3.4/_fortran_magic_d4ec9f96eccc695e8920d2c084bcab3cmodule.c\n",
      "creating /tmp/tmp5pnfy4et/src.linux-x86_64-3.4\n",
      "Reading fortran codes...\n",
      "\tReading file '/home/andrey/.cache/ipython/fortran/_fortran_magic_d4ec9f96eccc695e8920d2c084bcab3c.f90' (format:free)\n",
      "Post-processing...\n",
      "\tBlock: _fortran_magic_d4ec9f96eccc695e8920d2c084bcab3c\n",
      "\t\t\tBlock: my_function\n",
      "Post-processing (stage 2)...\n",
      "Building modules...\n",
      "\tBuilding module \"_fortran_magic_d4ec9f96eccc695e8920d2c084bcab3c\"...\n",
      "\t\tCreating wrapper for Fortran subroutine \"my_function\"(\"my_function\")...\n",
      "\t\tConstructing wrapper function \"my_function\"...\n",
      "\t\t  z = my_function(x,y)\n",
      "\tWrote C/API module \"_fortran_magic_d4ec9f96eccc695e8920d2c084bcab3c\" to file \"/tmp/tmp5pnfy4et/src.linux-x86_64-3.4/_fortran_magic_d4ec9f96eccc695e8920d2c084bcab3cmodule.c\"\n",
      "\tFortran 77 wrappers are saved to \"/tmp/tmp5pnfy4et/src.linux-x86_64-3.4/_fortran_magic_d4ec9f96eccc695e8920d2c084bcab3c-f2pywrappers.f\"\n",
      "  adding '/tmp/tmp5pnfy4et/src.linux-x86_64-3.4/fortranobject.c' to sources.\n",
      "  adding '/tmp/tmp5pnfy4et/src.linux-x86_64-3.4' to include_dirs.\n",
      "copying /home/andrey/programming/miniconda3/lib/python3.4/site-packages/numpy/f2py/src/fortranobject.c -> /tmp/tmp5pnfy4et/src.linux-x86_64-3.4\n",
      "copying /home/andrey/programming/miniconda3/lib/python3.4/site-packages/numpy/f2py/src/fortranobject.h -> /tmp/tmp5pnfy4et/src.linux-x86_64-3.4\n",
      "  adding '/tmp/tmp5pnfy4et/src.linux-x86_64-3.4/_fortran_magic_d4ec9f96eccc695e8920d2c084bcab3c-f2pywrappers.f' to sources.\n",
      "build_src: building npy-pkg config files\n",
      "running build_ext\n",
      "customize UnixCCompiler\n",
      "customize UnixCCompiler using build_ext\n",
      "customize Gnu95FCompiler\n",
      "Found executable /usr/bin/gfortran\n",
      "customize Gnu95FCompiler\n",
      "customize Gnu95FCompiler using build_ext\n",
      "building '_fortran_magic_d4ec9f96eccc695e8920d2c084bcab3c' extension\n",
      "compiling C sources\n",
      "C compiler: gcc -pthread -DNDEBUG -g -fwrapv -O3 -Wall -Wstrict-prototypes -fPIC\n",
      "\n",
      "creating /tmp/tmp5pnfy4et/tmp\n",
      "creating /tmp/tmp5pnfy4et/tmp/tmp5pnfy4et\n",
      "creating /tmp/tmp5pnfy4et/tmp/tmp5pnfy4et/src.linux-x86_64-3.4\n",
      "compile options: '-I/tmp/tmp5pnfy4et/src.linux-x86_64-3.4 -I/home/andrey/programming/miniconda3/lib/python3.4/site-packages/numpy/core/include -I/home/andrey/programming/miniconda3/include/python3.4m -c'\n",
      "gcc: /tmp/tmp5pnfy4et/src.linux-x86_64-3.4/_fortran_magic_d4ec9f96eccc695e8920d2c084bcab3cmodule.c\n",
      "In file included from /home/andrey/programming/miniconda3/lib/python3.4/site-packages/numpy/core/include/numpy/ndarraytypes.h:1809:0,\n",
      "                 from /home/andrey/programming/miniconda3/lib/python3.4/site-packages/numpy/core/include/numpy/ndarrayobject.h:18,\n",
      "                 from /home/andrey/programming/miniconda3/lib/python3.4/site-packages/numpy/core/include/numpy/arrayobject.h:4,\n",
      "                 from /tmp/tmp5pnfy4et/src.linux-x86_64-3.4/fortranobject.h:13,\n",
      "                 from /tmp/tmp5pnfy4et/src.linux-x86_64-3.4/_fortran_magic_d4ec9f96eccc695e8920d2c084bcab3cmodule.c:19:\n",
      "/home/andrey/programming/miniconda3/lib/python3.4/site-packages/numpy/core/include/numpy/npy_1_7_deprecated_api.h:15:2: warning: #warning \"Using deprecated NumPy API, disable it by \" \"#defining NPY_NO_DEPRECATED_API NPY_1_7_API_VERSION\" [-Wcpp]\n",
      " #warning \"Using deprecated NumPy API, disable it by \" \\\n",
      "  ^\n",
      "gcc: /tmp/tmp5pnfy4et/src.linux-x86_64-3.4/fortranobject.c\n",
      "In file included from /home/andrey/programming/miniconda3/lib/python3.4/site-packages/numpy/core/include/numpy/ndarraytypes.h:1809:0,\n",
      "                 from /home/andrey/programming/miniconda3/lib/python3.4/site-packages/numpy/core/include/numpy/ndarrayobject.h:18,\n",
      "                 from /home/andrey/programming/miniconda3/lib/python3.4/site-packages/numpy/core/include/numpy/arrayobject.h:4,\n",
      "                 from /tmp/tmp5pnfy4et/src.linux-x86_64-3.4/fortranobject.h:13,\n",
      "                 from /tmp/tmp5pnfy4et/src.linux-x86_64-3.4/fortranobject.c:2:\n",
      "/home/andrey/programming/miniconda3/lib/python3.4/site-packages/numpy/core/include/numpy/npy_1_7_deprecated_api.h:15:2: warning: #warning \"Using deprecated NumPy API, disable it by \" \"#defining NPY_NO_DEPRECATED_API NPY_1_7_API_VERSION\" [-Wcpp]\n",
      " #warning \"Using deprecated NumPy API, disable it by \" \\\n",
      "  ^\n",
      "compiling Fortran sources\n",
      "Fortran f77 compiler: /usr/bin/gfortran -Wall -g -ffixed-form -fno-second-underscore -fPIC -O3 -funroll-loops\n",
      "Fortran f90 compiler: /usr/bin/gfortran -Wall -g -fno-second-underscore -fPIC -O3 -funroll-loops\n",
      "Fortran fix compiler: /usr/bin/gfortran -Wall -g -ffixed-form -fno-second-underscore -Wall -g -fno-second-underscore -fPIC -O3 -funroll-loops\n",
      "creating /tmp/tmp5pnfy4et/home\n",
      "creating /tmp/tmp5pnfy4et/home/andrey\n",
      "creating /tmp/tmp5pnfy4et/home/andrey/.cache\n",
      "creating /tmp/tmp5pnfy4et/home/andrey/.cache/ipython\n",
      "creating /tmp/tmp5pnfy4et/home/andrey/.cache/ipython/fortran\n",
      "compile options: '-I/tmp/tmp5pnfy4et/src.linux-x86_64-3.4 -I/home/andrey/programming/miniconda3/lib/python3.4/site-packages/numpy/core/include -I/home/andrey/programming/miniconda3/include/python3.4m -c'\n",
      "gfortran:f90: /home/andrey/.cache/ipython/fortran/_fortran_magic_d4ec9f96eccc695e8920d2c084bcab3c.f90\n",
      "gfortran:f77: /tmp/tmp5pnfy4et/src.linux-x86_64-3.4/_fortran_magic_d4ec9f96eccc695e8920d2c084bcab3c-f2pywrappers.f\n",
      "/usr/bin/gfortran -Wall -g -Wall -g -shared /tmp/tmp5pnfy4et/tmp/tmp5pnfy4et/src.linux-x86_64-3.4/_fortran_magic_d4ec9f96eccc695e8920d2c084bcab3cmodule.o /tmp/tmp5pnfy4et/tmp/tmp5pnfy4et/src.linux-x86_64-3.4/fortranobject.o /tmp/tmp5pnfy4et/home/andrey/.cache/ipython/fortran/_fortran_magic_d4ec9f96eccc695e8920d2c084bcab3c.o /tmp/tmp5pnfy4et/tmp/tmp5pnfy4et/src.linux-x86_64-3.4/_fortran_magic_d4ec9f96eccc695e8920d2c084bcab3c-f2pywrappers.o -L/home/andrey/programming/miniconda3/lib -lpython3.4m -lgfortran -o ./_fortran_magic_d4ec9f96eccc695e8920d2c084bcab3c.cpython-34m.so\n",
      "Removing build directory /tmp/tmp5pnfy4et\n",
      "\n",
      "Ok. The following fortran objects are ready to use: my_function\n"
     ]
    }
   ],
   "source": [
    "%%fortran -vvv\n",
    "subroutine my_function(x, y, z)\n",
    "    real, intent(in) :: x(:), y(:)\n",
    "    real, intent(out) :: z(size(x))\n",
    "    ! using vector operations\n",
    "    z(:) = sin(x(:) + y(:))\n",
    "end subroutine"
   ]
  },
  {
   "cell_type": "markdown",
   "metadata": {},
   "source": [
    "If you want to use openmp with fortran in python, this is how you can do it with gfortan:"
   ]
  },
  {
   "cell_type": "code",
   "execution_count": 7,
   "metadata": {},
   "outputs": [
    {
     "name": "stdout",
     "output_type": "stream",
     "text": [
      "Running...\n",
      "   /home/andrey/programming/miniconda3/bin/python3 -m numpy.f2py --f90flags='-fopenmp' -lgomp -m _fortran_magic_64a13ad6c6a24770cbb04fd2e45ca100 -c /home/andrey/.cache/ipython/fortran/_fortran_magic_64a13ad6c6a24770cbb04fd2e45ca100.f90\n",
      "running build\n",
      "running config_cc\n",
      "unifing config_cc, config, build_clib, build_ext, build commands --compiler options\n",
      "running config_fc\n",
      "unifing config_fc, config, build_clib, build_ext, build commands --fcompiler options\n",
      "running build_src\n",
      "build_src\n",
      "building extension \"_fortran_magic_64a13ad6c6a24770cbb04fd2e45ca100\" sources\n",
      "f2py options: []\n",
      "f2py:> /tmp/tmpatfht3dd/src.linux-x86_64-3.4/_fortran_magic_64a13ad6c6a24770cbb04fd2e45ca100module.c\n",
      "creating /tmp/tmpatfht3dd/src.linux-x86_64-3.4\n",
      "Reading fortran codes...\n",
      "\tReading file '/home/andrey/.cache/ipython/fortran/_fortran_magic_64a13ad6c6a24770cbb04fd2e45ca100.f90' (format:free)\n",
      "Post-processing...\n",
      "\tBlock: _fortran_magic_64a13ad6c6a24770cbb04fd2e45ca100\n",
      "\t\t\tBlock: my_function\n",
      "In: :_fortran_magic_64a13ad6c6a24770cbb04fd2e45ca100:/home/andrey/.cache/ipython/fortran/_fortran_magic_64a13ad6c6a24770cbb04fd2e45ca100.f90:my_function\n",
      "get_useparameters: no module omp_lib info used by my_function\n",
      "Post-processing (stage 2)...\n",
      "Building modules...\n",
      "\tBuilding module \"_fortran_magic_64a13ad6c6a24770cbb04fd2e45ca100\"...\n",
      "\t\tCreating wrapper for Fortran subroutine \"my_function\"(\"my_function\")...\n",
      "\t\tConstructing wrapper function \"my_function\"...\n",
      "\t\t  z = my_function(x,y)\n",
      "\tWrote C/API module \"_fortran_magic_64a13ad6c6a24770cbb04fd2e45ca100\" to file \"/tmp/tmpatfht3dd/src.linux-x86_64-3.4/_fortran_magic_64a13ad6c6a24770cbb04fd2e45ca100module.c\"\n",
      "\tFortran 77 wrappers are saved to \"/tmp/tmpatfht3dd/src.linux-x86_64-3.4/_fortran_magic_64a13ad6c6a24770cbb04fd2e45ca100-f2pywrappers.f\"\n",
      "  adding '/tmp/tmpatfht3dd/src.linux-x86_64-3.4/fortranobject.c' to sources.\n",
      "  adding '/tmp/tmpatfht3dd/src.linux-x86_64-3.4' to include_dirs.\n",
      "copying /home/andrey/programming/miniconda3/lib/python3.4/site-packages/numpy/f2py/src/fortranobject.c -> /tmp/tmpatfht3dd/src.linux-x86_64-3.4\n",
      "copying /home/andrey/programming/miniconda3/lib/python3.4/site-packages/numpy/f2py/src/fortranobject.h -> /tmp/tmpatfht3dd/src.linux-x86_64-3.4\n",
      "  adding '/tmp/tmpatfht3dd/src.linux-x86_64-3.4/_fortran_magic_64a13ad6c6a24770cbb04fd2e45ca100-f2pywrappers.f' to sources.\n",
      "build_src: building npy-pkg config files\n",
      "running build_ext\n",
      "customize UnixCCompiler\n",
      "customize UnixCCompiler using build_ext\n",
      "customize Gnu95FCompiler\n",
      "Found executable /usr/bin/gfortran\n",
      "customize Gnu95FCompiler\n",
      "customize Gnu95FCompiler using build_ext\n",
      "building '_fortran_magic_64a13ad6c6a24770cbb04fd2e45ca100' extension\n",
      "compiling C sources\n",
      "C compiler: gcc -pthread -DNDEBUG -g -fwrapv -O3 -Wall -Wstrict-prototypes -fPIC\n",
      "\n",
      "creating /tmp/tmpatfht3dd/tmp\n",
      "creating /tmp/tmpatfht3dd/tmp/tmpatfht3dd\n",
      "creating /tmp/tmpatfht3dd/tmp/tmpatfht3dd/src.linux-x86_64-3.4\n",
      "compile options: '-I/tmp/tmpatfht3dd/src.linux-x86_64-3.4 -I/home/andrey/programming/miniconda3/lib/python3.4/site-packages/numpy/core/include -I/home/andrey/programming/miniconda3/include/python3.4m -c'\n",
      "gcc: /tmp/tmpatfht3dd/src.linux-x86_64-3.4/fortranobject.c\n",
      "In file included from /home/andrey/programming/miniconda3/lib/python3.4/site-packages/numpy/core/include/numpy/ndarraytypes.h:1809:0,\n",
      "                 from /home/andrey/programming/miniconda3/lib/python3.4/site-packages/numpy/core/include/numpy/ndarrayobject.h:18,\n",
      "                 from /home/andrey/programming/miniconda3/lib/python3.4/site-packages/numpy/core/include/numpy/arrayobject.h:4,\n",
      "                 from /tmp/tmpatfht3dd/src.linux-x86_64-3.4/fortranobject.h:13,\n",
      "                 from /tmp/tmpatfht3dd/src.linux-x86_64-3.4/fortranobject.c:2:\n",
      "/home/andrey/programming/miniconda3/lib/python3.4/site-packages/numpy/core/include/numpy/npy_1_7_deprecated_api.h:15:2: warning: #warning \"Using deprecated NumPy API, disable it by \" \"#defining NPY_NO_DEPRECATED_API NPY_1_7_API_VERSION\" [-Wcpp]\n",
      " #warning \"Using deprecated NumPy API, disable it by \" \\\n",
      "  ^\n",
      "gcc: /tmp/tmpatfht3dd/src.linux-x86_64-3.4/_fortran_magic_64a13ad6c6a24770cbb04fd2e45ca100module.c\n",
      "In file included from /home/andrey/programming/miniconda3/lib/python3.4/site-packages/numpy/core/include/numpy/ndarraytypes.h:1809:0,\n",
      "                 from /home/andrey/programming/miniconda3/lib/python3.4/site-packages/numpy/core/include/numpy/ndarrayobject.h:18,\n",
      "                 from /home/andrey/programming/miniconda3/lib/python3.4/site-packages/numpy/core/include/numpy/arrayobject.h:4,\n",
      "                 from /tmp/tmpatfht3dd/src.linux-x86_64-3.4/fortranobject.h:13,\n",
      "                 from /tmp/tmpatfht3dd/src.linux-x86_64-3.4/_fortran_magic_64a13ad6c6a24770cbb04fd2e45ca100module.c:19:\n",
      "/home/andrey/programming/miniconda3/lib/python3.4/site-packages/numpy/core/include/numpy/npy_1_7_deprecated_api.h:15:2: warning: #warning \"Using deprecated NumPy API, disable it by \" \"#defining NPY_NO_DEPRECATED_API NPY_1_7_API_VERSION\" [-Wcpp]\n",
      " #warning \"Using deprecated NumPy API, disable it by \" \\\n",
      "  ^\n",
      "compiling Fortran sources\n",
      "Fortran f77 compiler: /usr/bin/gfortran -Wall -g -ffixed-form -fno-second-underscore -fPIC -O3 -funroll-loops\n",
      "Fortran f90 compiler: /usr/bin/gfortran -fopenmp -fPIC -O3 -funroll-loops\n",
      "Fortran fix compiler: /usr/bin/gfortran -Wall -g -ffixed-form -fno-second-underscore -fopenmp -fPIC -O3 -funroll-loops\n",
      "creating /tmp/tmpatfht3dd/home\n",
      "creating /tmp/tmpatfht3dd/home/andrey\n",
      "creating /tmp/tmpatfht3dd/home/andrey/.cache\n",
      "creating /tmp/tmpatfht3dd/home/andrey/.cache/ipython\n",
      "creating /tmp/tmpatfht3dd/home/andrey/.cache/ipython/fortran\n",
      "compile options: '-I/tmp/tmpatfht3dd/src.linux-x86_64-3.4 -I/home/andrey/programming/miniconda3/lib/python3.4/site-packages/numpy/core/include -I/home/andrey/programming/miniconda3/include/python3.4m -c'\n",
      "gfortran:f90: /home/andrey/.cache/ipython/fortran/_fortran_magic_64a13ad6c6a24770cbb04fd2e45ca100.f90\n",
      "gfortran:f77: /tmp/tmpatfht3dd/src.linux-x86_64-3.4/_fortran_magic_64a13ad6c6a24770cbb04fd2e45ca100-f2pywrappers.f\n",
      "/usr/bin/gfortran -Wall -g -Wall -g -shared /tmp/tmpatfht3dd/tmp/tmpatfht3dd/src.linux-x86_64-3.4/_fortran_magic_64a13ad6c6a24770cbb04fd2e45ca100module.o /tmp/tmpatfht3dd/tmp/tmpatfht3dd/src.linux-x86_64-3.4/fortranobject.o /tmp/tmpatfht3dd/home/andrey/.cache/ipython/fortran/_fortran_magic_64a13ad6c6a24770cbb04fd2e45ca100.o /tmp/tmpatfht3dd/tmp/tmpatfht3dd/src.linux-x86_64-3.4/_fortran_magic_64a13ad6c6a24770cbb04fd2e45ca100-f2pywrappers.o -L/home/andrey/programming/miniconda3/lib -lgomp -lpython3.4m -lgfortran -o ./_fortran_magic_64a13ad6c6a24770cbb04fd2e45ca100.cpython-34m.so\n",
      "Removing build directory /tmp/tmpatfht3dd\n",
      "\n",
      "Ok. The following fortran objects are ready to use: my_function\n"
     ]
    }
   ],
   "source": [
    "%%fortran -vvv --f90flags='-fopenmp' --extra='-lgomp'\n",
    "subroutine my_function(x, y, z)\n",
    "    use omp_lib\n",
    "    real, intent(in) :: x(:), y(:)\n",
    "    real, intent(out) :: z(size(x))\n",
    "    ! your code\n",
    "end subroutine"
   ]
  },
  {
   "cell_type": "code",
   "execution_count": null,
   "metadata": {
    "collapsed": true
   },
   "outputs": [],
   "source": []
  }
 ],
 "metadata": {
  "kernelspec": {
   "display_name": "Python 3",
   "language": "python",
   "name": "python3"
  },
  "language_info": {
   "codemirror_mode": {
    "name": "ipython",
    "version": 3
   },
   "file_extension": ".py",
   "mimetype": "text/x-python",
   "name": "python",
   "nbconvert_exporter": "python",
   "pygments_lexer": "ipython3",
   "version": "3.5.5"
  }
 },
 "nbformat": 4,
 "nbformat_minor": 1
}
