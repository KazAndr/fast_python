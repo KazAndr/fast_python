{
 "cells": [
  {
   "cell_type": "code",
   "execution_count": 1,
   "metadata": {
    "collapsed": true
   },
   "outputs": [],
   "source": [
    "import os"
   ]
  },
  {
   "cell_type": "code",
   "execution_count": 4,
   "metadata": {
    "collapsed": true
   },
   "outputs": [],
   "source": []
  },
  {
   "cell_type": "code",
   "execution_count": 1,
   "metadata": {
    "collapsed": false
   },
   "outputs": [
    {
     "name": "stdout",
     "output_type": "stream",
     "text": [
      "Cython is working!\n"
     ]
    }
   ],
   "source": [
    "import pyximport; pyximport.install()\n",
    "import cy_code"
   ]
  },
  {
   "cell_type": "markdown",
   "metadata": {},
   "source": [
    "Для компиляции Cython-файла запускаемтся команда:\n",
    "$ python setup.py build_ext --inplace"
   ]
  },
  {
   "cell_type": "code",
   "execution_count": 2,
   "metadata": {
    "collapsed": false
   },
   "outputs": [
    {
     "name": "stdout",
     "output_type": "stream",
     "text": [
      "It is working too!\n"
     ]
    }
   ],
   "source": [
    "import pyximport; pyximport.install()\n",
    "import cy_code_2"
   ]
  },
  {
   "cell_type": "code",
   "execution_count": 14,
   "metadata": {
    "collapsed": true
   },
   "outputs": [],
   "source": []
  },
  {
   "cell_type": "code",
   "execution_count": 15,
   "metadata": {
    "collapsed": false
   },
   "outputs": [
    {
     "name": "stderr",
     "output_type": "stream",
     "text": [
      "Exception in Tkinter callback\n",
      "Traceback (most recent call last):\n",
      "  File \"/home/andrey/programming/miniconda3/lib/python3.4/tkinter/__init__.py\", line 1538, in __call__\n",
      "    return self.func(*args)\n",
      "  File \"<ipython-input-15-a561317711c3>\", line 34, in <lambda>\n",
      "    accept_button.bind(\"<Button-1>\",lambda event: add_item(event,fentry.get()))\n",
      "  File \"<ipython-input-15-a561317711c3>\", line 40, in add_item\n",
      "    print(tview.identify_element(x,y))\n",
      "  File \"/home/andrey/programming/miniconda3/lib/python3.4/tkinter/ttk.py\", line 1310, in identify_element\n",
      "    return self.identify(\"element\", x, y)\n",
      "  File \"/home/andrey/programming/miniconda3/lib/python3.4/tkinter/ttk.py\", line 1279, in identify\n",
      "    return self.tk.call(self._w, \"identify\", component, x, y)\n",
      "_tkinter.TclError: expected integer but got \"\"\n"
     ]
    },
    {
     "name": "stdout",
     "output_type": "stream",
     "text": [
      "{'tags': '', 'image': '', 'open': 0, 'text': '', 'values': ''}\n",
      "{'tags': '', 'image': '', 'open': 0, 'text': '', 'values': ['VALUE_1', 'VALUE_2']}\n"
     ]
    }
   ],
   "source": []
  },
  {
   "cell_type": "code",
   "execution_count": null,
   "metadata": {
    "collapsed": true
   },
   "outputs": [],
   "source": []
  }
 ],
 "metadata": {
  "kernelspec": {
   "display_name": "Python 3",
   "language": "python",
   "name": "python3"
  },
  "language_info": {
   "codemirror_mode": {
    "name": "ipython",
    "version": 3
   },
   "file_extension": ".py",
   "mimetype": "text/x-python",
   "name": "python",
   "nbconvert_exporter": "python",
   "pygments_lexer": "ipython3",
   "version": "3.4.5"
  }
 },
 "nbformat": 4,
 "nbformat_minor": 0
}
