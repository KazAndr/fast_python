{
 "cells": [
  {
   "cell_type": "code",
   "execution_count": 6,
   "metadata": {
    "collapsed": false
   },
   "outputs": [],
   "source": [
    "import weave\n",
    "import numpy as np"
   ]
  },
  {
   "cell_type": "code",
   "execution_count": 26,
   "metadata": {
    "collapsed": false
   },
   "outputs": [
    {
     "name": "stdout",
     "output_type": "stream",
     "text": [
      "Running unit tests for weave\n",
      "NumPy version 1.13.1\n",
      "NumPy relaxed strides checking option: True\n",
      "NumPy is installed in /home/andrey/programming/miniconda3/envs/py27/lib/python2.7/site-packages/numpy\n",
      "Python version 2.7.12 |Anaconda custom (64-bit)| (default, Jul  2 2016, 17:42:40) [GCC 4.4.7 20120313 (Red Hat 4.4.7-1)]\n",
      "nose version 1.3.7\n"
     ]
    },
    {
     "name": "stderr",
     "output_type": "stream",
     "text": [
      "...........................................K......................................................................................................\n",
      "----------------------------------------------------------------------\n",
      "Ran 146 tests in 1.043s\n",
      "\n",
      "OK (KNOWNFAIL=1)\n"
     ]
    },
    {
     "data": {
      "text/plain": [
       "<nose.result.TextTestResult run=146 errors=0 failures=0>"
      ]
     },
     "execution_count": 26,
     "metadata": {},
     "output_type": "execute_result"
    }
   ],
   "source": [
    "weave.test()"
   ]
  },
  {
   "cell_type": "markdown",
   "metadata": {},
   "source": [
    "### Задача\n",
    "* есть матрица размера n на n, вектор размера n и целое число;\n",
    "* необходимо вычесть из каждой строки матрицы вектор, умноженный на целое число (из симплекс метода)."
   ]
  },
  {
   "cell_type": "code",
   "execution_count": 10,
   "metadata": {
    "collapsed": true
   },
   "outputs": [],
   "source": [
    "n = 3"
   ]
  },
  {
   "cell_type": "code",
   "execution_count": 16,
   "metadata": {
    "collapsed": false
   },
   "outputs": [],
   "source": [
    "rand_matrix = np.random.random((n, n)) #матрица nxn \n",
    "rand_vector = np.random.random(n) #вектор n\n",
    "const = 10"
   ]
  },
  {
   "cell_type": "code",
   "execution_count": 17,
   "metadata": {
    "collapsed": false
   },
   "outputs": [
    {
     "data": {
      "text/plain": [
       "array([ 0.77670833,  0.55958811,  0.18219684])"
      ]
     },
     "execution_count": 17,
     "metadata": {},
     "output_type": "execute_result"
    }
   ],
   "source": [
    "rand_vector"
   ]
  },
  {
   "cell_type": "code",
   "execution_count": 18,
   "metadata": {
    "collapsed": false
   },
   "outputs": [],
   "source": [
    "# цикл по строкам матрицы, где i - номер строки\n",
    "# с - целое число, randRow - случайный вектор\n",
    "for i in xrange(3):\n",
    "    rand_matrix[i,:] -= const*rand_vector"
   ]
  },
  {
   "cell_type": "code",
   "execution_count": 19,
   "metadata": {
    "collapsed": false
   },
   "outputs": [
    {
     "data": {
      "text/plain": [
       "array([[-7.68039866, -4.85724618, -1.67844991],\n",
       "       [-6.93990745, -5.23489934, -0.95578309],\n",
       "       [-7.35483779, -5.32553769, -1.47167874]])"
      ]
     },
     "execution_count": 19,
     "metadata": {},
     "output_type": "execute_result"
    }
   ],
   "source": [
    "rand_matrix"
   ]
  },
  {
   "cell_type": "code",
   "execution_count": null,
   "metadata": {
    "collapsed": true
   },
   "outputs": [],
   "source": []
  },
  {
   "cell_type": "code",
   "execution_count": 22,
   "metadata": {
    "collapsed": true
   },
   "outputs": [],
   "source": [
    "m = n"
   ]
  },
  {
   "cell_type": "code",
   "execution_count": 25,
   "metadata": {
    "collapsed": false
   },
   "outputs": [
    {
     "name": "stdout",
     "output_type": "stream",
     "text": [
      "In file included from /home/andrey/programming/miniconda3/envs/py27/lib/python2.7/site-packages/numpy/core/include/numpy/ndarraytypes.h:1809:0,\n",
      "                 from /home/andrey/programming/miniconda3/envs/py27/lib/python2.7/site-packages/numpy/core/include/numpy/ndarrayobject.h:18,\n",
      "                 from /home/andrey/programming/miniconda3/envs/py27/lib/python2.7/site-packages/numpy/core/include/numpy/arrayobject.h:4,\n",
      "                 from /home/andrey/.cache/weave/python27_compiled/sc_583f51ef7a1dccee41de7b453cff52d72.cpp:22:\n",
      "/home/andrey/programming/miniconda3/envs/py27/lib/python2.7/site-packages/numpy/core/include/numpy/npy_1_7_deprecated_api.h:15:2: warning: #warning \"Using deprecated NumPy API, disable it by \" \"#defining NPY_NO_DEPRECATED_API NPY_1_7_API_VERSION\" [-Wcpp]\n",
      " #warning \"Using deprecated NumPy API, disable it by \" \\\n",
      "  ^\n",
      "/home/andrey/.cache/weave/python27_compiled/sc_583f51ef7a1dccee41de7b453cff52d72.cpp: In function ‘PyObject* compiled_func(PyObject*, PyObject*)’:\n",
      "/home/andrey/.cache/weave/python27_compiled/sc_583f51ef7a1dccee41de7b453cff52d72.cpp:681:15: error: expected unqualified-id before ‘=’ token\n",
      "     int const = convert_to_int(py_const,\"const\");\n",
      "               ^\n",
      "/home/andrey/.cache/weave/python27_compiled/sc_583f51ef7a1dccee41de7b453cff52d72.cpp:702:20: error: ‘N’ was not declared in this scope\n",
      "     for(i = 0; i < N*M; i++) {\n",
      "                    ^\n",
      "/home/andrey/.cache/weave/python27_compiled/sc_583f51ef7a1dccee41de7b453cff52d72.cpp:702:22: error: ‘M’ was not declared in this scope\n",
      "     for(i = 0; i < N*M; i++) {\n",
      "                      ^\n",
      "/home/andrey/.cache/weave/python27_compiled/sc_583f51ef7a1dccee41de7b453cff52d72.cpp:703:9: error: ‘matrix’ was not declared in this scope\n",
      "         matrix[0,i] = matrix[0,i] - (c * randRow[i%M]);\n",
      "         ^\n",
      "/home/andrey/.cache/weave/python27_compiled/sc_583f51ef7a1dccee41de7b453cff52d72.cpp:703:18: warning: left operand of comma operator has no effect [-Wunused-value]\n",
      "         matrix[0,i] = matrix[0,i] - (c * randRow[i%M]);\n",
      "                  ^\n",
      "/home/andrey/.cache/weave/python27_compiled/sc_583f51ef7a1dccee41de7b453cff52d72.cpp:703:32: warning: left operand of comma operator has no effect [-Wunused-value]\n",
      "         matrix[0,i] = matrix[0,i] - (c * randRow[i%M]);\n",
      "                                ^\n",
      "/home/andrey/.cache/weave/python27_compiled/sc_583f51ef7a1dccee41de7b453cff52d72.cpp:703:38: error: ‘c’ was not declared in this scope\n",
      "         matrix[0,i] = matrix[0,i] - (c * randRow[i%M]);\n",
      "                                      ^\n",
      "/home/andrey/.cache/weave/python27_compiled/sc_583f51ef7a1dccee41de7b453cff52d72.cpp:703:42: error: ‘randRow’ was not declared in this scope\n",
      "         matrix[0,i] = matrix[0,i] - (c * randRow[i%M]);\n",
      "                                          ^\n",
      "/home/andrey/.cache/weave/python27_compiled/sc_583f51ef7a1dccee41de7b453cff52d72.cpp:676:15: warning: unused variable ‘Nrand_matrix’ [-Wunused-variable]\n",
      "     npy_intp* Nrand_matrix = rand_matrix_array->dimensions;\n",
      "               ^\n",
      "/home/andrey/.cache/weave/python27_compiled/sc_583f51ef7a1dccee41de7b453cff52d72.cpp:677:15: warning: unused variable ‘Srand_matrix’ [-Wunused-variable]\n",
      "     npy_intp* Srand_matrix = rand_matrix_array->strides;\n",
      "               ^\n",
      "/home/andrey/.cache/weave/python27_compiled/sc_583f51ef7a1dccee41de7b453cff52d72.cpp:678:9: warning: unused variable ‘Drand_matrix’ [-Wunused-variable]\n",
      "     int Drand_matrix = rand_matrix_array->nd;\n",
      "         ^\n",
      "/home/andrey/.cache/weave/python27_compiled/sc_583f51ef7a1dccee41de7b453cff52d72.cpp:679:13: warning: unused variable ‘rand_matrix’ [-Wunused-variable]\n",
      "     double* rand_matrix = (double*) rand_matrix_array->data;\n",
      "             ^\n",
      "/home/andrey/.cache/weave/python27_compiled/sc_583f51ef7a1dccee41de7b453cff52d72.cpp:689:15: warning: unused variable ‘Nrand_vector’ [-Wunused-variable]\n",
      "     npy_intp* Nrand_vector = rand_vector_array->dimensions;\n",
      "               ^\n",
      "/home/andrey/.cache/weave/python27_compiled/sc_583f51ef7a1dccee41de7b453cff52d72.cpp:690:15: warning: unused variable ‘Srand_vector’ [-Wunused-variable]\n",
      "     npy_intp* Srand_vector = rand_vector_array->strides;\n",
      "               ^\n",
      "/home/andrey/.cache/weave/python27_compiled/sc_583f51ef7a1dccee41de7b453cff52d72.cpp:691:9: warning: unused variable ‘Drand_vector’ [-Wunused-variable]\n",
      "     int Drand_vector = rand_vector_array->nd;\n",
      "         ^\n",
      "/home/andrey/.cache/weave/python27_compiled/sc_583f51ef7a1dccee41de7b453cff52d72.cpp:692:13: warning: unused variable ‘rand_vector’ [-Wunused-variable]\n",
      "     double* rand_vector = (double*) rand_vector_array->data;\n",
      "             ^\n",
      "/home/andrey/.cache/weave/python27_compiled/sc_583f51ef7a1dccee41de7b453cff52d72.cpp:694:9: warning: unused variable ‘n’ [-Wunused-variable]\n",
      "     int n = convert_to_int(py_n,\"n\");\n",
      "         ^\n",
      "/home/andrey/.cache/weave/python27_compiled/sc_583f51ef7a1dccee41de7b453cff52d72.cpp:696:9: warning: unused variable ‘m’ [-Wunused-variable]\n",
      "     int m = convert_to_int(py_m,\"m\");\n",
      "         ^\n",
      "In file included from /home/andrey/programming/miniconda3/envs/py27/lib/python2.7/site-packages/numpy/core/include/numpy/ndarraytypes.h:1809:0,\n",
      "                 from /home/andrey/programming/miniconda3/envs/py27/lib/python2.7/site-packages/numpy/core/include/numpy/ndarrayobject.h:18,\n",
      "                 from /home/andrey/programming/miniconda3/envs/py27/lib/python2.7/site-packages/numpy/core/include/numpy/arrayobject.h:4,\n",
      "                 from /home/andrey/.cache/weave/python27_compiled/sc_583f51ef7a1dccee41de7b453cff52d72.cpp:22:\n",
      "/home/andrey/programming/miniconda3/envs/py27/lib/python2.7/site-packages/numpy/core/include/numpy/npy_1_7_deprecated_api.h:15:2: warning: #warning \"Using deprecated NumPy API, disable it by \" \"#defining NPY_NO_DEPRECATED_API NPY_1_7_API_VERSION\" [-Wcpp]\n",
      " #warning \"Using deprecated NumPy API, disable it by \" \\\n",
      "  ^\n",
      "/home/andrey/.cache/weave/python27_compiled/sc_583f51ef7a1dccee41de7b453cff52d72.cpp: In function ‘PyObject* compiled_func(PyObject*, PyObject*)’:\n",
      "/home/andrey/.cache/weave/python27_compiled/sc_583f51ef7a1dccee41de7b453cff52d72.cpp:681:15: error: expected unqualified-id before ‘=’ token\n",
      "     int const = convert_to_int(py_const,\"const\");\n",
      "               ^\n",
      "/home/andrey/.cache/weave/python27_compiled/sc_583f51ef7a1dccee41de7b453cff52d72.cpp:702:20: error: ‘N’ was not declared in this scope\n",
      "     for(i = 0; i < N*M; i++) {\n",
      "                    ^\n",
      "/home/andrey/.cache/weave/python27_compiled/sc_583f51ef7a1dccee41de7b453cff52d72.cpp:702:22: error: ‘M’ was not declared in this scope\n",
      "     for(i = 0; i < N*M; i++) {\n",
      "                      ^\n",
      "/home/andrey/.cache/weave/python27_compiled/sc_583f51ef7a1dccee41de7b453cff52d72.cpp:703:9: error: ‘matrix’ was not declared in this scope\n",
      "         matrix[0,i] = matrix[0,i] - (c * randRow[i%M]);\n",
      "         ^\n",
      "/home/andrey/.cache/weave/python27_compiled/sc_583f51ef7a1dccee41de7b453cff52d72.cpp:703:18: warning: left operand of comma operator has no effect [-Wunused-value]\n",
      "         matrix[0,i] = matrix[0,i] - (c * randRow[i%M]);\n",
      "                  ^\n",
      "/home/andrey/.cache/weave/python27_compiled/sc_583f51ef7a1dccee41de7b453cff52d72.cpp:703:32: warning: left operand of comma operator has no effect [-Wunused-value]\n",
      "         matrix[0,i] = matrix[0,i] - (c * randRow[i%M]);\n",
      "                                ^\n",
      "/home/andrey/.cache/weave/python27_compiled/sc_583f51ef7a1dccee41de7b453cff52d72.cpp:703:38: error: ‘c’ was not declared in this scope\n",
      "         matrix[0,i] = matrix[0,i] - (c * randRow[i%M]);\n",
      "                                      ^\n",
      "/home/andrey/.cache/weave/python27_compiled/sc_583f51ef7a1dccee41de7b453cff52d72.cpp:703:42: error: ‘randRow’ was not declared in this scope\n",
      "         matrix[0,i] = matrix[0,i] - (c * randRow[i%M]);\n",
      "                                          ^\n",
      "/home/andrey/.cache/weave/python27_compiled/sc_583f51ef7a1dccee41de7b453cff52d72.cpp:676:15: warning: unused variable ‘Nrand_matrix’ [-Wunused-variable]\n",
      "     npy_intp* Nrand_matrix = rand_matrix_array->dimensions;\n",
      "               ^\n",
      "/home/andrey/.cache/weave/python27_compiled/sc_583f51ef7a1dccee41de7b453cff52d72.cpp:677:15: warning: unused variable ‘Srand_matrix’ [-Wunused-variable]\n",
      "     npy_intp* Srand_matrix = rand_matrix_array->strides;\n",
      "               ^\n",
      "/home/andrey/.cache/weave/python27_compiled/sc_583f51ef7a1dccee41de7b453cff52d72.cpp:678:9: warning: unused variable ‘Drand_matrix’ [-Wunused-variable]\n",
      "     int Drand_matrix = rand_matrix_array->nd;\n",
      "         ^\n",
      "/home/andrey/.cache/weave/python27_compiled/sc_583f51ef7a1dccee41de7b453cff52d72.cpp:679:13: warning: unused variable ‘rand_matrix’ [-Wunused-variable]\n",
      "     double* rand_matrix = (double*) rand_matrix_array->data;\n",
      "             ^\n",
      "/home/andrey/.cache/weave/python27_compiled/sc_583f51ef7a1dccee41de7b453cff52d72.cpp:689:15: warning: unused variable ‘Nrand_vector’ [-Wunused-variable]\n",
      "     npy_intp* Nrand_vector = rand_vector_array->dimensions;\n",
      "               ^\n",
      "/home/andrey/.cache/weave/python27_compiled/sc_583f51ef7a1dccee41de7b453cff52d72.cpp:690:15: warning: unused variable ‘Srand_vector’ [-Wunused-variable]\n",
      "     npy_intp* Srand_vector = rand_vector_array->strides;\n",
      "               ^\n",
      "/home/andrey/.cache/weave/python27_compiled/sc_583f51ef7a1dccee41de7b453cff52d72.cpp:691:9: warning: unused variable ‘Drand_vector’ [-Wunused-variable]\n",
      "     int Drand_vector = rand_vector_array->nd;\n",
      "         ^\n",
      "/home/andrey/.cache/weave/python27_compiled/sc_583f51ef7a1dccee41de7b453cff52d72.cpp:692:13: warning: unused variable ‘rand_vector’ [-Wunused-variable]\n",
      "     double* rand_vector = (double*) rand_vector_array->data;\n",
      "             ^\n",
      "/home/andrey/.cache/weave/python27_compiled/sc_583f51ef7a1dccee41de7b453cff52d72.cpp:694:9: warning: unused variable ‘n’ [-Wunused-variable]\n",
      "     int n = convert_to_int(py_n,\"n\");\n",
      "         ^\n",
      "/home/andrey/.cache/weave/python27_compiled/sc_583f51ef7a1dccee41de7b453cff52d72.cpp:696:9: warning: unused variable ‘m’ [-Wunused-variable]\n",
      "     int m = convert_to_int(py_m,\"m\");\n",
      "         ^\n"
     ]
    },
    {
     "ename": "CompileError",
     "evalue": "error: Command \"g++ -pthread -fno-strict-aliasing -g -O2 -DNDEBUG -g -fwrapv -O3 -Wall -fPIC -I/home/andrey/programming/miniconda3/envs/py27/lib/python2.7/site-packages/weave -I/home/andrey/programming/miniconda3/envs/py27/lib/python2.7/site-packages/weave/scxx -I/home/andrey/programming/miniconda3/envs/py27/lib/python2.7/site-packages/numpy/core/include -I/home/andrey/programming/miniconda3/envs/py27/include/python2.7 -c /home/andrey/.cache/weave/python27_compiled/sc_583f51ef7a1dccee41de7b453cff52d72.cpp -o /tmp/weave-andrey-UDp10A/python27_intermediate/compiler_33953ccda0eb3891e0e2ada457906658/home/andrey/.cache/weave/python27_compiled/sc_583f51ef7a1dccee41de7b453cff52d72.o -MMD -MF /tmp/weave-andrey-UDp10A/python27_intermediate/compiler_33953ccda0eb3891e0e2ada457906658/home/andrey/.cache/weave/python27_compiled/sc_583f51ef7a1dccee41de7b453cff52d72.o.d\" failed with exit status 1",
     "output_type": "error",
     "traceback": [
      "\u001b[1;31m---------------------------------------------------------------------------\u001b[0m",
      "\u001b[1;31mCompileError\u001b[0m                              Traceback (most recent call last)",
      "\u001b[1;32m<ipython-input-25-f20f4e5a2be2>\u001b[0m in \u001b[0;36m<module>\u001b[1;34m()\u001b[0m\n\u001b[0;32m      7\u001b[0m }\n\u001b[0;32m      8\u001b[0m \"\"\"\n\u001b[1;32m----> 9\u001b[1;33m \u001b[0mweave\u001b[0m\u001b[1;33m.\u001b[0m\u001b[0minline\u001b[0m\u001b[1;33m(\u001b[0m\u001b[0mcodeC\u001b[0m\u001b[1;33m,\u001b[0m \u001b[1;33m[\u001b[0m\u001b[1;34m'rand_matrix'\u001b[0m\u001b[1;33m,\u001b[0m\u001b[1;34m'const'\u001b[0m\u001b[1;33m,\u001b[0m \u001b[1;34m'rand_vector'\u001b[0m\u001b[1;33m,\u001b[0m\u001b[1;34m'n'\u001b[0m\u001b[1;33m,\u001b[0m \u001b[1;34m'm'\u001b[0m\u001b[1;33m]\u001b[0m\u001b[1;33m,\u001b[0m \u001b[0mcompiler\u001b[0m \u001b[1;33m=\u001b[0m \u001b[1;34m'gcc'\u001b[0m\u001b[1;33m)\u001b[0m\u001b[1;33m\u001b[0m\u001b[0m\n\u001b[0m",
      "\u001b[1;32m/home/andrey/programming/miniconda3/envs/py27/lib/python2.7/site-packages/weave/inline_tools.pyc\u001b[0m in \u001b[0;36minline\u001b[1;34m(code, arg_names, local_dict, global_dict, force, compiler, verbose, support_code, headers, customize, type_converters, auto_downcast, newarr_converter, **kw)\u001b[0m\n\u001b[0;32m    364\u001b[0m                                     \u001b[0mtype_converters\u001b[0m\u001b[1;33m=\u001b[0m\u001b[0mtype_converters\u001b[0m\u001b[1;33m,\u001b[0m\u001b[1;33m\u001b[0m\u001b[0m\n\u001b[0;32m    365\u001b[0m                                     \u001b[0mauto_downcast\u001b[0m\u001b[1;33m=\u001b[0m\u001b[0mauto_downcast\u001b[0m\u001b[1;33m,\u001b[0m\u001b[1;33m\u001b[0m\u001b[0m\n\u001b[1;32m--> 366\u001b[1;33m                                     **kw)\n\u001b[0m\u001b[0;32m    367\u001b[0m \u001b[1;33m\u001b[0m\u001b[0m\n\u001b[0;32m    368\u001b[0m             \u001b[0mfunction_catalog\u001b[0m\u001b[1;33m.\u001b[0m\u001b[0madd_function\u001b[0m\u001b[1;33m(\u001b[0m\u001b[0mcode\u001b[0m\u001b[1;33m,\u001b[0m\u001b[0mfunc\u001b[0m\u001b[1;33m,\u001b[0m\u001b[0mmodule_dir\u001b[0m\u001b[1;33m)\u001b[0m\u001b[1;33m\u001b[0m\u001b[0m\n",
      "\u001b[1;32m/home/andrey/programming/miniconda3/envs/py27/lib/python2.7/site-packages/weave/inline_tools.pyc\u001b[0m in \u001b[0;36mcompile_function\u001b[1;34m(code, arg_names, local_dict, global_dict, module_dir, compiler, verbose, support_code, headers, customize, type_converters, auto_downcast, **kw)\u001b[0m\n\u001b[0;32m    494\u001b[0m     \u001b[1;31m# setting.  All input keywords are passed through to distutils\u001b[0m\u001b[1;33m\u001b[0m\u001b[1;33m\u001b[0m\u001b[0m\n\u001b[0;32m    495\u001b[0m     mod.compile(location=storage_dir,compiler=compiler,\n\u001b[1;32m--> 496\u001b[1;33m                 verbose=verbose, **kw)\n\u001b[0m\u001b[0;32m    497\u001b[0m \u001b[1;33m\u001b[0m\u001b[0m\n\u001b[0;32m    498\u001b[0m     \u001b[1;31m# import the module and return the function.  Make sure\u001b[0m\u001b[1;33m\u001b[0m\u001b[1;33m\u001b[0m\u001b[0m\n",
      "\u001b[1;32m/home/andrey/programming/miniconda3/envs/py27/lib/python2.7/site-packages/weave/ext_tools.pyc\u001b[0m in \u001b[0;36mcompile\u001b[1;34m(self, location, compiler, verbose, **kw)\u001b[0m\n\u001b[0;32m    371\u001b[0m         success = build_tools.build_extension(file, temp_dir=temp,\n\u001b[0;32m    372\u001b[0m                                               \u001b[0mcompiler_name\u001b[0m\u001b[1;33m=\u001b[0m\u001b[0mcompiler\u001b[0m\u001b[1;33m,\u001b[0m\u001b[1;33m\u001b[0m\u001b[0m\n\u001b[1;32m--> 373\u001b[1;33m                                               verbose=verbose, **kw)\n\u001b[0m\u001b[0;32m    374\u001b[0m         \u001b[1;32mif\u001b[0m \u001b[1;32mnot\u001b[0m \u001b[0msuccess\u001b[0m\u001b[1;33m:\u001b[0m\u001b[1;33m\u001b[0m\u001b[0m\n\u001b[0;32m    375\u001b[0m             \u001b[1;32mraise\u001b[0m \u001b[0mSystemError\u001b[0m\u001b[1;33m(\u001b[0m\u001b[1;34m'Compilation failed'\u001b[0m\u001b[1;33m)\u001b[0m\u001b[1;33m\u001b[0m\u001b[0m\n",
      "\u001b[1;32m/home/andrey/programming/miniconda3/envs/py27/lib/python2.7/site-packages/weave/build_tools.pyc\u001b[0m in \u001b[0;36mbuild_extension\u001b[1;34m(module_path, compiler_name, build_dir, temp_dir, verbose, **kw)\u001b[0m\n\u001b[0;32m    277\u001b[0m         \u001b[0menviron\u001b[0m \u001b[1;33m=\u001b[0m \u001b[0mcopy\u001b[0m\u001b[1;33m.\u001b[0m\u001b[0mdeepcopy\u001b[0m\u001b[1;33m(\u001b[0m\u001b[0mos\u001b[0m\u001b[1;33m.\u001b[0m\u001b[0menviron\u001b[0m\u001b[1;33m)\u001b[0m\u001b[1;33m\u001b[0m\u001b[0m\n\u001b[0;32m    278\u001b[0m         \u001b[1;32mtry\u001b[0m\u001b[1;33m:\u001b[0m\u001b[1;33m\u001b[0m\u001b[0m\n\u001b[1;32m--> 279\u001b[1;33m             \u001b[0msetup\u001b[0m\u001b[1;33m(\u001b[0m\u001b[0mname\u001b[0m\u001b[1;33m=\u001b[0m\u001b[0mmodule_name\u001b[0m\u001b[1;33m,\u001b[0m \u001b[0mext_modules\u001b[0m\u001b[1;33m=\u001b[0m\u001b[1;33m[\u001b[0m\u001b[0mext\u001b[0m\u001b[1;33m]\u001b[0m\u001b[1;33m,\u001b[0m\u001b[0mverbose\u001b[0m\u001b[1;33m=\u001b[0m\u001b[0mverb\u001b[0m\u001b[1;33m)\u001b[0m\u001b[1;33m\u001b[0m\u001b[0m\n\u001b[0m\u001b[0;32m    280\u001b[0m         \u001b[1;32mfinally\u001b[0m\u001b[1;33m:\u001b[0m\u001b[1;33m\u001b[0m\u001b[0m\n\u001b[0;32m    281\u001b[0m             \u001b[1;31m# restore state\u001b[0m\u001b[1;33m\u001b[0m\u001b[1;33m\u001b[0m\u001b[0m\n",
      "\u001b[1;32m/home/andrey/programming/miniconda3/envs/py27/lib/python2.7/site-packages/numpy/distutils/core.pyc\u001b[0m in \u001b[0;36msetup\u001b[1;34m(**attr)\u001b[0m\n\u001b[0;32m    167\u001b[0m     \u001b[0mnew_attr\u001b[0m\u001b[1;33m[\u001b[0m\u001b[1;34m'distclass'\u001b[0m\u001b[1;33m]\u001b[0m \u001b[1;33m=\u001b[0m \u001b[0mNumpyDistribution\u001b[0m\u001b[1;33m\u001b[0m\u001b[0m\n\u001b[0;32m    168\u001b[0m \u001b[1;33m\u001b[0m\u001b[0m\n\u001b[1;32m--> 169\u001b[1;33m     \u001b[1;32mreturn\u001b[0m \u001b[0mold_setup\u001b[0m\u001b[1;33m(\u001b[0m\u001b[1;33m**\u001b[0m\u001b[0mnew_attr\u001b[0m\u001b[1;33m)\u001b[0m\u001b[1;33m\u001b[0m\u001b[0m\n\u001b[0m\u001b[0;32m    170\u001b[0m \u001b[1;33m\u001b[0m\u001b[0m\n\u001b[0;32m    171\u001b[0m \u001b[1;32mdef\u001b[0m \u001b[0m_check_append_library\u001b[0m\u001b[1;33m(\u001b[0m\u001b[0mlibraries\u001b[0m\u001b[1;33m,\u001b[0m \u001b[0mitem\u001b[0m\u001b[1;33m)\u001b[0m\u001b[1;33m:\u001b[0m\u001b[1;33m\u001b[0m\u001b[0m\n",
      "\u001b[1;32m/home/andrey/programming/miniconda3/envs/py27/lib/python2.7/distutils/core.pyc\u001b[0m in \u001b[0;36msetup\u001b[1;34m(**attrs)\u001b[0m\n\u001b[0;32m    164\u001b[0m                 \u001b[1;32mraise\u001b[0m\u001b[1;33m\u001b[0m\u001b[0m\n\u001b[0;32m    165\u001b[0m             \u001b[1;32melse\u001b[0m\u001b[1;33m:\u001b[0m\u001b[1;33m\u001b[0m\u001b[0m\n\u001b[1;32m--> 166\u001b[1;33m                 \u001b[1;32mraise\u001b[0m \u001b[0mSystemExit\u001b[0m\u001b[1;33m,\u001b[0m \u001b[1;34m\"error: \"\u001b[0m \u001b[1;33m+\u001b[0m \u001b[0mstr\u001b[0m\u001b[1;33m(\u001b[0m\u001b[0mmsg\u001b[0m\u001b[1;33m)\u001b[0m\u001b[1;33m\u001b[0m\u001b[0m\n\u001b[0m\u001b[0;32m    167\u001b[0m \u001b[1;33m\u001b[0m\u001b[0m\n\u001b[0;32m    168\u001b[0m     \u001b[1;32mreturn\u001b[0m \u001b[0mdist\u001b[0m\u001b[1;33m\u001b[0m\u001b[0m\n",
      "\u001b[1;31mCompileError\u001b[0m: error: Command \"g++ -pthread -fno-strict-aliasing -g -O2 -DNDEBUG -g -fwrapv -O3 -Wall -fPIC -I/home/andrey/programming/miniconda3/envs/py27/lib/python2.7/site-packages/weave -I/home/andrey/programming/miniconda3/envs/py27/lib/python2.7/site-packages/weave/scxx -I/home/andrey/programming/miniconda3/envs/py27/lib/python2.7/site-packages/numpy/core/include -I/home/andrey/programming/miniconda3/envs/py27/include/python2.7 -c /home/andrey/.cache/weave/python27_compiled/sc_583f51ef7a1dccee41de7b453cff52d72.cpp -o /tmp/weave-andrey-UDp10A/python27_intermediate/compiler_33953ccda0eb3891e0e2ada457906658/home/andrey/.cache/weave/python27_compiled/sc_583f51ef7a1dccee41de7b453cff52d72.o -MMD -MF /tmp/weave-andrey-UDp10A/python27_intermediate/compiler_33953ccda0eb3891e0e2ada457906658/home/andrey/.cache/weave/python27_compiled/sc_583f51ef7a1dccee41de7b453cff52d72.o.d\" failed with exit status 1"
     ]
    }
   ],
   "source": [
    "# C код\n",
    "codeC = \\\n",
    "\"\"\"\n",
    "int i = 0;\n",
    " \n",
    "for(i = 0; i < N*M; i++) {\n",
    "    matrix[0,i] = matrix[0,i] - (c * randRow[i%M]);\n",
    "}\n",
    "\"\"\"\n",
    "weave.inline(codeC, ['rand_matrix','const', 'rand_vector','n', 'm'], compiler = 'gcc')"
   ]
  },
  {
   "cell_type": "code",
   "execution_count": 27,
   "metadata": {
    "collapsed": false
   },
   "outputs": [
    {
     "name": "stdout",
     "output_type": "stream",
     "text": [
      "In file included from /home/andrey/programming/miniconda3/envs/py27/lib/python2.7/site-packages/numpy/core/include/numpy/ndarraytypes.h:1809:0,\n",
      "                 from /home/andrey/programming/miniconda3/envs/py27/lib/python2.7/site-packages/numpy/core/include/numpy/ndarrayobject.h:18,\n",
      "                 from /home/andrey/programming/miniconda3/envs/py27/lib/python2.7/site-packages/numpy/core/include/numpy/arrayobject.h:4,\n",
      "                 from /home/andrey/.cache/weave/python27_compiled/m0/sc_cb1945ea063627b5855c13eafebb07040.cpp:22:\n",
      "/home/andrey/programming/miniconda3/envs/py27/lib/python2.7/site-packages/numpy/core/include/numpy/npy_1_7_deprecated_api.h:15:2: warning: #warning \"Using deprecated NumPy API, disable it by \" \"#defining NPY_NO_DEPRECATED_API NPY_1_7_API_VERSION\" [-Wcpp]\n",
      " #warning \"Using deprecated NumPy API, disable it by \" \\\n",
      "  ^\n"
     ]
    }
   ],
   "source": [
    "a  = 1\n",
    "weave.inline('printf(\"%d\\\\n\",a);',['a'])"
   ]
  },
  {
   "cell_type": "code",
   "execution_count": 28,
   "metadata": {
    "collapsed": false
   },
   "outputs": [
    {
     "name": "stdout",
     "output_type": "stream",
     "text": [
      "In file included from /home/andrey/programming/miniconda3/envs/py27/lib/python2.7/site-packages/numpy/core/include/numpy/ndarraytypes.h:1809:0,\n",
      "                 from /home/andrey/programming/miniconda3/envs/py27/lib/python2.7/site-packages/numpy/core/include/numpy/ndarrayobject.h:18,\n",
      "                 from /home/andrey/programming/miniconda3/envs/py27/lib/python2.7/site-packages/numpy/core/include/numpy/arrayobject.h:4,\n",
      "                 from /home/andrey/.cache/weave/python27_compiled/m0/sc_80d36857eb17861252df1f7ea488642b0.cpp:22:\n",
      "/home/andrey/programming/miniconda3/envs/py27/lib/python2.7/site-packages/numpy/core/include/numpy/npy_1_7_deprecated_api.h:15:2: warning: #warning \"Using deprecated NumPy API, disable it by \" \"#defining NPY_NO_DEPRECATED_API NPY_1_7_API_VERSION\" [-Wcpp]\n",
      " #warning \"Using deprecated NumPy API, disable it by \" \\\n",
      "  ^\n"
     ]
    }
   ],
   "source": [
    "weave.inline('std::cout << a << std::endl;',['a'])"
   ]
  },
  {
   "cell_type": "code",
   "execution_count": null,
   "metadata": {
    "collapsed": true
   },
   "outputs": [],
   "source": []
  }
 ],
 "metadata": {
  "kernelspec": {
   "display_name": "Python 2",
   "language": "python",
   "name": "python2"
  },
  "language_info": {
   "codemirror_mode": {
    "name": "ipython",
    "version": 2
   },
   "file_extension": ".py",
   "mimetype": "text/x-python",
   "name": "python",
   "nbconvert_exporter": "python",
   "pygments_lexer": "ipython2",
   "version": "2.7.12"
  }
 },
 "nbformat": 4,
 "nbformat_minor": 0
}
